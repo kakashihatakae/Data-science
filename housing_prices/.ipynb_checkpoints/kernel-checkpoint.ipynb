{
 "cells": [
  {
   "cell_type": "code",
   "execution_count": 1,
   "metadata": {
    "_cell_guid": "b1076dfc-b9ad-4769-8c92-a6c4dae69d19",
    "_uuid": "8f2839f25d086af736a60e9eeb907d3b93b6e0e5"
   },
   "outputs": [
    {
     "name": "stderr",
     "output_type": "stream",
     "text": [
      "/usr/lib/python3.6/importlib/_bootstrap.py:219: RuntimeWarning: numpy.ufunc size changed, may indicate binary incompatibility. Expected 216, got 192\n",
      "  return f(*args, **kwds)\n",
      "/usr/lib/python3.6/importlib/_bootstrap.py:219: RuntimeWarning: numpy.ufunc size changed, may indicate binary incompatibility. Expected 216, got 192\n",
      "  return f(*args, **kwds)\n",
      "/usr/lib/python3.6/importlib/_bootstrap.py:219: RuntimeWarning: numpy.ufunc size changed, may indicate binary incompatibility. Expected 216, got 192\n",
      "  return f(*args, **kwds)\n",
      "/usr/lib/python3.6/importlib/_bootstrap.py:219: RuntimeWarning: numpy.ufunc size changed, may indicate binary incompatibility. Expected 216, got 192\n",
      "  return f(*args, **kwds)\n",
      "/usr/lib/python3.6/importlib/_bootstrap.py:219: RuntimeWarning: numpy.ufunc size changed, may indicate binary incompatibility. Expected 192 from C header, got 216 from PyObject\n",
      "  return f(*args, **kwds)\n"
     ]
    }
   ],
   "source": [
    "import numpy as np # linear algebra\n",
    "import pandas as pd # data processing, CSV file I/O (e.g. pd.read_csv)\n",
    "\n",
    "from sklearn.tree import DecisionTreeClassifier\n",
    "from sklearn.model_selection import train_test_split\n",
    "from sklearn.ensemble import RandomForestRegressor\n",
    "import xgboost as xgb\n",
    "from sklearn.linear_model import Lasso\n",
    "\n",
    "from sklearn.preprocessing import RobustScaler\n",
    "from sklearn.pipeline import make_pipeline\n",
    "from sklearn.impute import SimpleImputer\n",
    "from sklearn.metrics import mean_squared_error\n",
    "import matplotlib.pyplot as plt\n",
    "import seaborn as sns\n",
    "from math import sqrt\n",
    " \n",
    "# Input data files are available in the \"../input/\" directory.\n",
    "# For example, running this (by clicking run or pressing Shift+Enter) will list the files in the input directory\n",
    "\n",
    "import os\n",
    "# print(os.listdir(\"../input\"))\n",
    "sns.set()\n"
   ]
  },
  {
   "cell_type": "code",
   "execution_count": 40,
   "metadata": {
    "_uuid": "4e1af5c4eee5b60f358e861f1d1f68e5d45aa8d3"
   },
   "outputs": [],
   "source": [
    "train = pd.read_csv('~/python/kaggle/housing_prices/train.csv')\n",
    "test = pd.read_csv('~/python/kaggle/housing_prices/test.csv')\n",
    "# print(train.describe())\n",
    "train['SalePrice'] = np.log1p(train['SalePrice'])"
   ]
  },
  {
   "cell_type": "code",
   "execution_count": 41,
   "metadata": {},
   "outputs": [
    {
     "name": "stderr",
     "output_type": "stream",
     "text": [
      "/usr/local/lib/python3.6/dist-packages/ipykernel_launcher.py:1: FutureWarning: Sorting because non-concatenation axis is not aligned. A future version\n",
      "of pandas will change to not sort by default.\n",
      "\n",
      "To accept the future behavior, pass 'sort=False'.\n",
      "\n",
      "To retain the current behavior and silence the warning, pass 'sort=True'.\n",
      "\n",
      "  \"\"\"Entry point for launching an IPython kernel.\n"
     ]
    }
   ],
   "source": [
    "joint = pd.concat([train, test],axis=0)\n"
   ]
  },
  {
   "cell_type": "code",
   "execution_count": 119,
   "metadata": {
    "_uuid": "622f75416b7a9e9328940d64382b8a2b90062d28"
   },
   "outputs": [
    {
     "name": "stdout",
     "output_type": "stream",
     "text": [
      "Alley           2721\n",
      "BsmtCond          82\n",
      "BsmtExposure      82\n",
      "BsmtFinSF1         1\n",
      "BsmtFinSF2         1\n",
      "BsmtFinType1      79\n",
      "BsmtFinType2      80\n",
      "BsmtFullBath       2\n",
      "BsmtHalfBath       2\n",
      "BsmtQual          81\n",
      "BsmtUnfSF          1\n",
      "Electrical         1\n",
      "Exterior1st        1\n",
      "Exterior2nd        1\n",
      "Fence           2348\n",
      "FireplaceQu     1420\n",
      "Functional         2\n",
      "GarageArea         1\n",
      "GarageCars         1\n",
      "GarageCond       159\n",
      "GarageFinish     159\n",
      "GarageQual       159\n",
      "GarageType       157\n",
      "GarageYrBlt      159\n",
      "KitchenQual        1\n",
      "LotFrontage      486\n",
      "MSZoning           4\n",
      "MasVnrArea        23\n",
      "MasVnrType        24\n",
      "MiscFeature     2814\n",
      "PoolQC          2909\n",
      "SalePrice       1459\n",
      "SaleType           1\n",
      "TotalBsmtSF        1\n",
      "Utilities          2\n",
      "dtype: int64\n",
      "\n",
      "number of features with null columns\n",
      "35\n"
     ]
    }
   ],
   "source": [
    "null_cols = joint.columns[joint.isnull().any()]\n",
    "quantity_null_col = joint.isnull().any().sum()\n",
    "quantity_per_col  = joint[null_cols].isnull().sum()\n",
    "\n",
    "print(quantity_per_col)\n",
    "print('')\n",
    "print(\"number of features with null columns\")\n",
    "print(quantity_null_col)"
   ]
  },
  {
   "cell_type": "code",
   "execution_count": 42,
   "metadata": {
    "_uuid": "40a36d7f378a430e6ed17d7a4a048340286832a8"
   },
   "outputs": [],
   "source": [
    "#---------------\n",
    "#LotFrontage Imputation\n",
    "imputer = SimpleImputer()\n",
    "imputer_mode = SimpleImputer(strategy='most_frequent')\n",
    "\n",
    "#imputer = SimpleImputer(Strategy = 'median')\n",
    "imputed_data = imputer.fit_transform(joint['LotFrontage'].values.reshape(2919, 1))\n",
    "joint['LotFrontage'] = imputed_data\n",
    "\n",
    "#Alley\n",
    "# joint['Alley'] = joint['Alley'].replace({'NA':1, 'Pave':2, 'Grvl':3})\n",
    "joint['Alley'].describe()\n",
    "joint['Alley'] = joint['Alley'].fillna(1)\n",
    "joint['Alley'] = joint['Alley'].replace({'Grvl':2, 'Pave':3})\n",
    "\n",
    "#MasVnrType\n",
    "# lb = LabelBinarizer()\n",
    "imputed_data = imputer_mode.fit_transform(joint['MasVnrType'].values.reshape(2919,1))\n",
    "joint['MasVnrType'] = imputed_data\n",
    "\n",
    "#-------Street-----------\n",
    "joint['Street'] = joint['Street'].replace({'Grvl':1, 'Pave':0})\n",
    "\n",
    "#---------LotShape---------\n",
    "joint['LotShape'] = joint['LotShape'].replace({'Reg':4, 'IR1':3, 'IR2':2, 'IR3':1})\n",
    "\n",
    "#------LandContour\n",
    "joint['LandContour'] = joint['LandContour'].replace({'Lvl':4, 'Bnk':3, 'HLS':2, 'Low':1})\n",
    "\n",
    "#----------Utilities---------\n",
    "joint['Utilities'] = joint['Utilities'].fillna('AllPub')\n",
    "joint['Utilities'] = joint['Utilities'].replace({'AllPub':4, 'NoSewr':3, 'NoSeWa':2, 'ELO':1})\n",
    "\n",
    "#---------LandSlope\n",
    "joint['LandSlope'] = joint['LandSlope'].replace({'Gtl':3, 'Mod':2, 'Sev':1})\n",
    "\n",
    "#------MasVnrArea---\n",
    "joint['MasVnrArea'] = imputer.fit_transform(joint['MasVnrArea'].values.reshape(2919,1))\n",
    "\n",
    "#------------Exterqual-----------\n",
    "joint['ExterQual'] = joint['ExterQual'].replace({'Ex':5, 'Gd':4, 'TA':3, 'Fa':2, 'Po':1})\n",
    "\n",
    "#------ExternCond-------\n",
    "joint['ExterCond'] = joint['ExterCond'].replace({'Ex':5, 'Gd':4, 'TA':3, 'Fa':2, 'Po':1})\n",
    "\n",
    "#-----BsmtQual------\n",
    "joint['BsmtQual'] = joint['BsmtQual'].fillna(1)\n",
    "joint['BsmtQual'] = joint['BsmtQual'].replace({'Ex':6, 'Gd':5, 'TA':4, 'Fa':3, 'Po':2})\n",
    "\n",
    "#-----BsmtCond\n",
    "joint['BsmtCond'] = joint['BsmtCond'].fillna(1)\n",
    "joint['BsmtCond'] = joint['BsmtCond'].replace({'Ex':6, 'Gd':5, 'TA':4, 'Fa':3, 'Po':2})\n",
    "\n",
    "#--------BsmtExposure\n",
    "joint['BsmtExposure'] = joint['BsmtExposure'].fillna(1)\n",
    "joint['BsmtExposure'] = joint['BsmtExposure'].replace({ 'Gd':5, 'Av':4, 'Mn':3, 'No':2})\n",
    "\n",
    "#BsmtFinType1\n",
    "joint['BsmtFinType1'] = joint['BsmtFinType1'].fillna(1)\n",
    "joint['BsmtFinType1'] = joint['BsmtFinType1'].replace({'Unf':2, 'LwQ':3, 'Rec':4, 'BLQ':5, 'ALQ':6, 'GLQ':7})\n",
    "\n",
    "#BsmtFinType2\n",
    "joint['BsmtFinType2'] = joint['BsmtFinType2'].fillna(1)\n",
    "joint['BsmtFinType2'] = joint['BsmtFinType2'].replace({'Unf':2, 'LwQ':3, 'Rec':4, 'BLQ':5, 'ALQ':6, 'GLQ':7})\n",
    "\n",
    "#Heating\n",
    "joint['HeatingQC'] = joint['HeatingQC'].replace({'Po':1, 'Fa':2, 'TA':3, 'Gd':4, 'Ex':5})\n",
    "\n",
    "#CentralAir\n",
    "joint['CentralAir'] = joint['CentralAir'].replace({'Y':1, 'N':0})\n",
    "\n",
    "#Electrical\n",
    "joint['Electrical'] = joint['Electrical'].fillna(2)\n",
    "joint['Electrical'] = joint['Electrical'].replace({'Mix':1, 'FuseP':2, 'FuseF':3, 'FuseA':4, 'SBrkr':5})\n",
    "\n",
    "#kitchenQual\n",
    "joint['KitchenQual'] = joint['KitchenQual'].replace({'Po':1, 'Fa':2, 'TA':3, 'Gd':4, 'Ex':5})\n",
    "\n",
    "#FireplceQu\n",
    "joint['FireplaceQu'] = joint['FireplaceQu'].fillna(1)\n",
    "joint['FireplaceQu'] = joint['FireplaceQu'].replace({'Po':2, 'Fa':3, 'TA':4, 'Gd':5, 'Ex':6})\n",
    "\n",
    "#GarageType\n",
    "imputed_data_GYB = imputer_mode.fit_transform(joint['GarageType'].values.reshape(2919,1))\n",
    "joint['GarageType'] = imputed_data_GYB\n",
    "\n",
    "#GarageYrBlt\n",
    "imputed_data_GYB = imputer_mode.fit_transform(joint['GarageYrBlt'].values.reshape(2919,1))\n",
    "joint['GarageYrBlt'] = imputed_data_GYB\n",
    "\n",
    "#GarageFinish\n",
    "joint['GarageFinish'] = joint['GarageFinish'].fillna(1)\n",
    "joint['GarageFinish'] = joint['GarageFinish'].replace({'Unf':2, 'RFn':3, 'Fin':4})\n",
    "\n",
    "#GarageQual\n",
    "joint['GarageQual'] = joint['GarageQual'].fillna(1)\n",
    "joint['GarageQual'] = joint['GarageQual'].replace({'Po':2, 'Fa':3, 'TA':4, 'Gd':5, 'Ex':6})\n",
    "\n",
    "#GarageCond\n",
    "joint['GarageCond'] = joint['GarageCond'].fillna(1)\n",
    "joint['GarageCond'] = joint['GarageCond'].replace({'Po':2, 'Fa':3, 'TA':4, 'Gd':5, 'Ex':6})\n",
    "\n",
    "#PavedDrive\n",
    "joint['PavedDrive'] = joint['PavedDrive'].replace({'N':1, 'P':2, 'Y':3})\n",
    "\n",
    "#PoolQC\n",
    "joint['PoolQC'] = joint['PoolQC'].fillna(1)\n",
    "joint['PoolQC'] = joint['PoolQC'].replace({'Fa':2, 'TA':3, 'Gd':4, 'Ex':5})\n",
    "\n",
    "#Fence\n",
    "joint['Fence'] = joint['Fence'].fillna('None')\n",
    "\n",
    "#BsmtFinSF1         1\n",
    "imputed_data = imputer.fit_transform(joint['BsmtFinSF1'].values.reshape(2919, 1))\n",
    "joint['BsmtFinSF1'] = imputed_data\n",
    "# BsmtFinSF2         1\n",
    "joint['BsmtFinSF2'] = joint['BsmtFinSF2'].fillna(0)\n",
    "# BsmtFullBath       2\n",
    "imputed_data = imputer_mode.fit_transform(joint['BsmtFullBath'].values.reshape(2919,1))\n",
    "joint['BsmtFullBath'] = imputed_data\n",
    "# BsmtHalfBath       2\n",
    "imputed_data = imputer_mode.fit_transform(joint['BsmtHalfBath'].values.reshape(2919,1))\n",
    "joint['BsmtHalfBath'] = imputed_data\n",
    "# BsmtUnfSF          1\n",
    "imputed_data = imputer.fit_transform(joint['BsmtUnfSF'].values.reshape(2919, 1))\n",
    "joint['BsmtUnfSF'] = imputed_data\n",
    "# GarageArea         1\n",
    "imputed_data = imputer.fit_transform(joint['GarageArea'].values.reshape(2919, 1))\n",
    "joint['GarageArea'] = imputed_data\n",
    "# GarageCars         1\n",
    "imputed_data = imputer_mode.fit_transform(joint['GarageCars'].values.reshape(2919,1))\n",
    "joint['GarageCars'] = imputed_data\n",
    "# KitchenQual        1\n",
    "imputed_data = imputer_mode.fit_transform(joint['KitchenQual'].values.reshape(2919,1))\n",
    "joint['KitchenQual'] = imputed_data\n",
    "# TotalBsmtSF        1\n",
    "imputed_data = imputer.fit_transform(joint['TotalBsmtSF'].values.reshape(2919, 1))\n",
    "joint['TotalBsmtSF'] = imputed_data\n",
    "# Utilities          2\n",
    "#BsmtQual, ExterQual, Utilities\n",
    "joint['BsmtQual'] = joint['BsmtQual'].astype(int)\n",
    "joint['ExterQual'] = joint['ExterQual'].astype(int)\n",
    "joint['Utilities'] = joint['Utilities'].astype(int)\n"
   ]
  },
  {
   "cell_type": "code",
   "execution_count": 48,
   "metadata": {},
   "outputs": [],
   "source": [
    "temp = joint.dtypes[train.dtypes != 'object'].index\n",
    "skewed_fet = joint[temp]\n",
    "skewed = skewed_fet.apply(lambda x: skew(x))\n",
    "# print(skewed)\n",
    "skewed = skewed[abs(skewed) > 0.75]\n",
    "\n",
    "from scipy.special import boxcox1p\n",
    "skewed_fetures = skewed.index\n",
    "# print(skewed_fetures)\n",
    "lam=0.17\n",
    "for feat in skewed_fetures:\n",
    "    joint[feat] = boxcox1p(joint[feat], lam)"
   ]
  },
  {
   "cell_type": "code",
   "execution_count": 43,
   "metadata": {
    "_uuid": "f1dd4de49ed3363293f17c4c36b5aa00c83279f4"
   },
   "outputs": [],
   "source": [
    "lis_one_hot = ['MSZoning', 'LotConfig', 'Neighborhood', 'Condition1', 'Condition2',\n",
    "                'BldgType', 'HouseStyle', 'RoofMatl','RoofStyle', 'Exterior1st', 'Exterior2nd',\n",
    "                'MasVnrType', 'Foundation', 'Heating', 'Functional', 'GarageType', 'Fence',\n",
    "                'MiscFeature', 'SaleType', 'SaleCondition']\n",
    "\n",
    "one_hot = pd.get_dummies(joint, columns=lis_one_hot)"
   ]
  },
  {
   "cell_type": "code",
   "execution_count": 44,
   "metadata": {
    "_uuid": "720f86a32d4eeb2be5da6f072284e467c05105d7"
   },
   "outputs": [],
   "source": [
    "Ids = one_hot['Id']\n",
    "train = one_hot.iloc[:1460]\n",
    "test = one_hot.iloc[1460:]\n",
    "# id_train = one_hot['Id'].iloc[:1461]\n",
    "id_test = one_hot['Id'].iloc[1460:]\n",
    "# prnt(id_test)\n",
    "# print(temp_train)"
   ]
  },
  {
   "cell_type": "code",
   "execution_count": 45,
   "metadata": {},
   "outputs": [],
   "source": [
    "def Multiple_models(model, train_X, train_y, test_X):\n",
    "    pred_list = []\n",
    "    for model_ in model:\n",
    "        print(\"model\")\n",
    "        model_.fit(train_X, train_y)\n",
    "        pred_list.append(model_.predict(test_X))\n",
    "    stacked_pred = np.mean(pred_list, axis=0)\n",
    "    return stacked_pred"
   ]
  },
  {
   "cell_type": "code",
   "execution_count": 47,
   "metadata": {},
   "outputs": [],
   "source": [
    "def Kfold_cv(kfolds, model, data, target):\n",
    "    scores = []\n",
    "    train = data.copy()\n",
    "    for i,(train_index, test_index) in enumerate(kfolds.split(train)):\n",
    "        print(\"---fold--- \" ,i)\n",
    "        train_X = train.iloc[train_index,:]\n",
    "        test_X = train.iloc[test_index,:]\n",
    "        train_y = target.iloc[train_index]\n",
    "        test_y = target.iloc[test_index]\n",
    "        stack_error = sqrt(mean_squared_error(test_y, Multiple_models(model, train_X, train_y, test_X)))\n",
    "        scores.append(stack_error)\n",
    "    \n",
    "    return np.mean(scores)"
   ]
  },
  {
   "cell_type": "code",
   "execution_count": 48,
   "metadata": {
    "_uuid": "8a029f266ddbaedff71d64f4bc2581c2cb99710c"
   },
   "outputs": [],
   "source": [
    "Y = train['SalePrice']\n",
    "train = train.drop(['Id', 'SalePrice'], axis=1)"
   ]
  },
  {
   "cell_type": "code",
   "execution_count": 49,
   "metadata": {
    "_uuid": "38b15cfa5562e97151ef01d8d461d0c2aa56e0a4"
   },
   "outputs": [],
   "source": [
    "model_rr = RandomForestRegressor(n_estimators=200, max_depth = 15, max_features=65)\n",
    "# model.fit(train, Y)\n",
    "\n",
    "\n",
    "model_xgb = xgb.XGBRegressor(colsample_bytree=0.4603, gamma=0.0468, \n",
    "                             learning_rate=0.05, max_depth=3, \n",
    "                             min_child_weight=1.7817, n_estimators=2200,\n",
    "                             reg_alpha=0.4640, reg_lambda=0.8571,\n",
    "                             subsample=0.5213, silent=1,\n",
    "                             random_state =7, nthread = -1)\n",
    "model_lasso = make_pipeline(RobustScaler(), Lasso(alpha =0.0005, random_state=1))\n"
   ]
  },
  {
   "cell_type": "code",
   "execution_count": 50,
   "metadata": {},
   "outputs": [],
   "source": [
    "models = [model_rr, model_xgb]"
   ]
  },
  {
   "cell_type": "code",
   "execution_count": 37,
   "metadata": {
    "scrolled": false
   },
   "outputs": [
    {
     "name": "stdout",
     "output_type": "stream",
     "text": [
      "---fold---  0\n",
      "model\n",
      "model\n"
     ]
    },
    {
     "name": "stderr",
     "output_type": "stream",
     "text": [
      "/usr/local/lib/python3.6/dist-packages/xgboost/core.py:587: FutureWarning: Series.base is deprecated and will be removed in a future version\n",
      "  if getattr(data, 'base', None) is not None and \\\n"
     ]
    },
    {
     "name": "stdout",
     "output_type": "stream",
     "text": [
      "---fold---  1\n",
      "model\n",
      "model\n"
     ]
    },
    {
     "name": "stderr",
     "output_type": "stream",
     "text": [
      "/usr/local/lib/python3.6/dist-packages/xgboost/core.py:587: FutureWarning: Series.base is deprecated and will be removed in a future version\n",
      "  if getattr(data, 'base', None) is not None and \\\n"
     ]
    },
    {
     "name": "stdout",
     "output_type": "stream",
     "text": [
      "---fold---  2\n",
      "model\n",
      "model\n"
     ]
    },
    {
     "name": "stderr",
     "output_type": "stream",
     "text": [
      "/usr/local/lib/python3.6/dist-packages/xgboost/core.py:587: FutureWarning: Series.base is deprecated and will be removed in a future version\n",
      "  if getattr(data, 'base', None) is not None and \\\n"
     ]
    },
    {
     "name": "stdout",
     "output_type": "stream",
     "text": [
      "---fold---  3\n",
      "model\n",
      "model\n"
     ]
    },
    {
     "name": "stderr",
     "output_type": "stream",
     "text": [
      "/usr/local/lib/python3.6/dist-packages/xgboost/core.py:587: FutureWarning: Series.base is deprecated and will be removed in a future version\n",
      "  if getattr(data, 'base', None) is not None and \\\n"
     ]
    },
    {
     "name": "stdout",
     "output_type": "stream",
     "text": [
      "26917.85756264734\n"
     ]
    }
   ],
   "source": [
    "from sklearn.model_selection import KFold\n",
    "kf = KFold(n_splits=4, shuffle=True)\n",
    "\n",
    "score = Kfold_cv(kf, models, train, Y)\n",
    "print(score)"
   ]
  },
  {
   "cell_type": "markdown",
   "metadata": {},
   "source": [
    "rr  = 0.13904078742665987\n",
    "rr,xgb  = 0.12833794453094435\n",
    "rr, xgb, lasso = 0.13066820927048878"
   ]
  },
  {
   "cell_type": "code",
   "execution_count": 51,
   "metadata": {
    "_uuid": "81ab7b4e8d75eb13fb456ca2b25aca112821260d",
    "scrolled": false
   },
   "outputs": [
    {
     "name": "stdout",
     "output_type": "stream",
     "text": [
      "model\n",
      "model\n"
     ]
    },
    {
     "name": "stderr",
     "output_type": "stream",
     "text": [
      "/usr/local/lib/python3.6/dist-packages/xgboost/core.py:587: FutureWarning: Series.base is deprecated and will be removed in a future version\n",
      "  if getattr(data, 'base', None) is not None and \\\n",
      "/usr/local/lib/python3.6/dist-packages/xgboost/core.py:588: FutureWarning: Series.base is deprecated and will be removed in a future version\n",
      "  data.base is not None and isinstance(data, np.ndarray) \\\n"
     ]
    }
   ],
   "source": [
    "test = test.drop(['SalePrice', 'Id'], axis=1)\n",
    "\n",
    "stacked_predictions = np.expm1(Multiple_models(models, train, Y, test))\n",
    "\n",
    "submission = {'SalePrice':stacked_predictions}\n",
    "sub = pd.concat([pd.DataFrame(id_test), pd.DataFrame(submission)], axis=1)\n",
    "sub.to_csv('~/python/kaggle/neew.csv', index=False)"
   ]
  },
  {
   "cell_type": "code",
   "execution_count": 52,
   "metadata": {},
   "outputs": [
    {
     "name": "stdout",
     "output_type": "stream",
     "text": [
      "Available Themes: \r\n",
      "   chesterish\r\n",
      "   grade3\r\n",
      "   gruvboxd\r\n",
      "   gruvboxl\r\n",
      "   monokai\r\n",
      "   oceans16\r\n",
      "   onedork\r\n",
      "   solarizedd\r\n",
      "   solarizedl\r\n"
     ]
    }
   ],
   "source": [
    "!jt -l"
   ]
  },
  {
   "cell_type": "code",
   "execution_count": null,
   "metadata": {},
   "outputs": [],
   "source": []
  }
 ],
 "metadata": {
  "kernelspec": {
   "display_name": "Python 3",
   "language": "python",
   "name": "python3"
  },
  "language_info": {
   "codemirror_mode": {
    "name": "ipython",
    "version": 3
   },
   "file_extension": ".py",
   "mimetype": "text/x-python",
   "name": "python",
   "nbconvert_exporter": "python",
   "pygments_lexer": "ipython3",
   "version": "3.6.7"
  }
 },
 "nbformat": 4,
 "nbformat_minor": 1
}
