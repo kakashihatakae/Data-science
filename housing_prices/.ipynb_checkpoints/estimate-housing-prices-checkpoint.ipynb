{
 "cells": [
  {
   "cell_type": "code",
   "execution_count": 1,
   "metadata": {
    "_cell_guid": "b1076dfc-b9ad-4769-8c92-a6c4dae69d19",
    "_uuid": "8f2839f25d086af736a60e9eeb907d3b93b6e0e5"
   },
   "outputs": [
    {
     "name": "stdout",
     "output_type": "stream",
     "text": [
      "['train.csv', 'sample_submission.csv', 'test.csv', 'data_description.txt']\n"
     ]
    }
   ],
   "source": [
    "import numpy as np # linear algebra\n",
    "import pandas as pd # data processing, CSV file I/O (e.g. pd.read_csv)\n",
    "from sklearn.tree import DecisionTreeClassifier\n",
    "from sklearn.model_selection import train_test_split\n",
    "from sklearn.ensemble import RandomForestRegressor\n",
    "from sklearn.impute import SimpleImputer\n",
    "from sklearn.metrics import mean_squared_error\n",
    "import matplotlib.pyplot as plt\n",
    "import seaborn as sns\n",
    "# Input data files are available in the \"../input/\" directory.\n",
    "# For example, running this (by clicking run or pressing Shift+Enter) will list the files in the input directory\n",
    "\n",
    "import os\n",
    "print(os.listdir(\"../input\"))\n",
    "sns.set()\n"
   ]
  },
  {
   "cell_type": "markdown",
   "metadata": {
    "_cell_guid": "79c7e3d0-c299-4dcb-8224-4455121ee9b0",
    "_uuid": "d629ff2d2480ee46fbb7e2d37f6b5fab8052498a",
    "collapsed": true
   },
   "source": [
    "Before applying models, Its wise to massage the given data a little bit.  Let's make a collection of incomplete features in the given data. We can also think about using techniques like imputation to fill the missing spaces in the training data.\n"
   ]
  },
  {
   "cell_type": "code",
   "execution_count": 2,
   "metadata": {
    "_uuid": "4e1af5c4eee5b60f358e861f1d1f68e5d45aa8d3"
   },
   "outputs": [
    {
     "name": "stderr",
     "output_type": "stream",
     "text": [
      "/opt/conda/lib/python3.6/site-packages/ipykernel_launcher.py:3: FutureWarning: Sorting because non-concatenation axis is not aligned. A future version\n",
      "of pandas will change to not sort by default.\n",
      "\n",
      "To accept the future behavior, pass 'sort=False'.\n",
      "\n",
      "To retain the current behavior and silence the warning, pass 'sort=True'.\n",
      "\n",
      "  This is separate from the ipykernel package so we can avoid doing imports until\n"
     ]
    },
    {
     "name": "stdout",
     "output_type": "stream",
     "text": [
      "          1stFlrSF     2ndFlrSF     ...       YearRemodAdd       YrSold\n",
      "count  2919.000000  2919.000000     ...        2919.000000  2919.000000\n",
      "mean   1159.581706   336.483727     ...        1984.264474  2007.792737\n",
      "std     392.362079   428.701456     ...          20.894344     1.314964\n",
      "min     334.000000     0.000000     ...        1950.000000  2006.000000\n",
      "25%     876.000000     0.000000     ...        1965.000000  2007.000000\n",
      "50%    1082.000000     0.000000     ...        1993.000000  2008.000000\n",
      "75%    1387.500000   704.000000     ...        2004.000000  2009.000000\n",
      "max    5095.000000  2065.000000     ...        2010.000000  2010.000000\n",
      "\n",
      "[8 rows x 38 columns]\n"
     ]
    }
   ],
   "source": [
    "train = pd.read_csv('../input/train.csv')\n",
    "test = pd.read_csv('../input/test.csv')\n",
    "train = pd.concat([train, test],axis=0)\n",
    "print(train.describe())"
   ]
  },
  {
   "cell_type": "markdown",
   "metadata": {
    "_uuid": "24c664bb950d00c91bc19f34c0ec254591533cef"
   },
   "source": [
    "Now it's time gain some insights on the missing data in the training set. The detailed information about the data can be found in the data_description.txt. We'll refer that in the later steps for feature engineering."
   ]
  },
  {
   "cell_type": "code",
   "execution_count": 3,
   "metadata": {
    "_uuid": "622f75416b7a9e9328940d64382b8a2b90062d28"
   },
   "outputs": [
    {
     "name": "stdout",
     "output_type": "stream",
     "text": [
      "Alley           2721\n",
      "BsmtCond          82\n",
      "BsmtExposure      82\n",
      "BsmtFinSF1         1\n",
      "BsmtFinSF2         1\n",
      "BsmtFinType1      79\n",
      "BsmtFinType2      80\n",
      "BsmtFullBath       2\n",
      "BsmtHalfBath       2\n",
      "BsmtQual          81\n",
      "BsmtUnfSF          1\n",
      "Electrical         1\n",
      "Exterior1st        1\n",
      "Exterior2nd        1\n",
      "Fence           2348\n",
      "FireplaceQu     1420\n",
      "Functional         2\n",
      "GarageArea         1\n",
      "GarageCars         1\n",
      "GarageCond       159\n",
      "GarageFinish     159\n",
      "GarageQual       159\n",
      "GarageType       157\n",
      "GarageYrBlt      159\n",
      "KitchenQual        1\n",
      "LotFrontage      486\n",
      "MSZoning           4\n",
      "MasVnrArea        23\n",
      "MasVnrType        24\n",
      "MiscFeature     2814\n",
      "PoolQC          2909\n",
      "SalePrice       1459\n",
      "SaleType           1\n",
      "TotalBsmtSF        1\n",
      "Utilities          2\n",
      "dtype: int64\n",
      "\n",
      "number of features with null columns\n",
      "35\n"
     ]
    }
   ],
   "source": [
    "null_cols = train.columns[train.isnull().any()]\n",
    "quantity_null_col = train.isnull().any().sum()\n",
    "quantity_per_col  = train[null_cols].isnull().sum()\n",
    "\n",
    "print(quantity_per_col)\n",
    "print('')\n",
    "print(\"number of features with null columns\")\n",
    "print(quantity_null_col)"
   ]
  },
  {
   "cell_type": "markdown",
   "metadata": {
    "_uuid": "5ad23c01df7fad21001fa9699678a5ec0c2d565f"
   },
   "source": [
    "Aah!! so many darn features to take care of. Let's go step by step. \n",
    "In the cell bellow I've taken care of features where the order of the categories matter. Lots of donkey work."
   ]
  },
  {
   "cell_type": "code",
   "execution_count": 4,
   "metadata": {
    "_uuid": "40a36d7f378a430e6ed17d7a4a048340286832a8"
   },
   "outputs": [],
   "source": [
    "#---------------\n",
    "#LotFrontage Imputation\n",
    "imputer = SimpleImputer()\n",
    "imputer_mode = SimpleImputer(strategy='most_frequent')\n",
    "\n",
    "#imputer = SimpleImputer(Strategy = 'median')\n",
    "imputed_data = imputer.fit_transform(train['LotFrontage'].values.reshape(2919, 1))\n",
    "train['LotFrontage'] = imputed_data\n",
    "\n",
    "#Alley\n",
    "# train['Alley'] = train['Alley'].replace({'NA':1, 'Pave':2, 'Grvl':3})\n",
    "train['Alley'].describe()\n",
    "train['Alley'] = train['Alley'].fillna(1)\n",
    "train['Alley'] = train['Alley'].replace({'Grvl':2, 'Pave':3})\n",
    "\n",
    "#MasVnrType\n",
    "# lb = LabelBinarizer()\n",
    "imputed_data = imputer_mode.fit_transform(train['MasVnrType'].values.reshape(2919,1))\n",
    "train['MasVnrType'] = imputed_data\n",
    "\n",
    "#-------Street-----------\n",
    "train['Street'] = train['Street'].replace({'Grvl':1, 'Pave':0})\n",
    "\n",
    "#---------LotShape---------\n",
    "train['LotShape'] = train['LotShape'].replace({'Reg':4, 'IR1':3, 'IR2':2, 'IR3':1})\n",
    "\n",
    "#------LandContour\n",
    "train['LandContour'] = train['LandContour'].replace({'Lvl':4, 'Bnk':3, 'HLS':2, 'Low':1})\n",
    "\n",
    "#----------Utilities---------\n",
    "train['Utilities'] = train['Utilities'].fillna('AllPub')\n",
    "train['Utilities'] = train['Utilities'].replace({'AllPub':4, 'NoSewr':3, 'NoSeWa':2, 'ELO':1})\n",
    "\n",
    "#---------LandSlope\n",
    "train['LandSlope'] = train['LandSlope'].replace({'Gtl':3, 'Mod':2, 'Sev':1})\n",
    "\n",
    "#------MasVnrArea---\n",
    "train['MasVnrArea'] = imputer.fit_transform(train['MasVnrArea'].values.reshape(2919,1))\n",
    "\n",
    "#------------Exterqual-----------\n",
    "train['ExterQual'] = train['ExterQual'].replace({'Ex':5, 'Gd':4, 'TA':3, 'Fa':2, 'Po':1})\n",
    "\n",
    "#------ExternCond-------\n",
    "train['ExterCond'] = train['ExterCond'].replace({'Ex':5, 'Gd':4, 'TA':3, 'Fa':2, 'Po':1})\n",
    "\n",
    "#-----BsmtQual------\n",
    "train['BsmtQual'] = train['BsmtQual'].fillna(1)\n",
    "train['BsmtQual'] = train['BsmtQual'].replace({'Ex':6, 'Gd':5, 'TA':4, 'Fa':3, 'Po':2})\n",
    "\n",
    "#-----BsmtCond\n",
    "train['BsmtCond'] = train['BsmtCond'].fillna(1)\n",
    "train['BsmtCond'] = train['BsmtCond'].replace({'Ex':6, 'Gd':5, 'TA':4, 'Fa':3, 'Po':2})\n",
    "\n",
    "#--------BsmtExposure\n",
    "train['BsmtExposure'] = train['BsmtExposure'].fillna(1)\n",
    "train['BsmtExposure'] = train['BsmtExposure'].replace({ 'Gd':5, 'Av':4, 'Mn':3, 'No':2})\n",
    "\n",
    "#BsmtFinType1\n",
    "train['BsmtFinType1'] = train['BsmtFinType1'].fillna(1)\n",
    "train['BsmtFinType1'] = train['BsmtFinType1'].replace({'Unf':2, 'LwQ':3, 'Rec':4, 'BLQ':5, 'ALQ':6, 'GLQ':7})\n",
    "\n",
    "#BsmtFinType2\n",
    "train['BsmtFinType2'] = train['BsmtFinType2'].fillna(1)\n",
    "train['BsmtFinType2'] = train['BsmtFinType2'].replace({'Unf':2, 'LwQ':3, 'Rec':4, 'BLQ':5, 'ALQ':6, 'GLQ':7})\n",
    "\n",
    "#Heating\n",
    "train['HeatingQC'] = train['HeatingQC'].replace({'Po':1, 'Fa':2, 'TA':3, 'Gd':4, 'Ex':5})\n",
    "\n",
    "#CentralAir\n",
    "train['CentralAir'] = train['CentralAir'].replace({'Y':1, 'N':0})\n",
    "\n",
    "#Electrical\n",
    "train['Electrical'] = train['Electrical'].fillna(2)\n",
    "train['Electrical'] = train['Electrical'].replace({'Mix':1, 'FuseP':2, 'FuseF':3, 'FuseA':4, 'SBrkr':5})\n",
    "\n",
    "#kitchenQual\n",
    "train['KitchenQual'] = train['KitchenQual'].replace({'Po':1, 'Fa':2, 'TA':3, 'Gd':4, 'Ex':5})\n",
    "\n",
    "#FireplceQu\n",
    "train['FireplaceQu'] = train['FireplaceQu'].fillna(1)\n",
    "train['FireplaceQu'] = train['FireplaceQu'].replace({'Po':2, 'Fa':3, 'TA':4, 'Gd':5, 'Ex':6})\n",
    "\n",
    "#GarageType\n",
    "imputed_data_GYB = imputer_mode.fit_transform(train['GarageType'].values.reshape(2919,1))\n",
    "train['GarageType'] = imputed_data_GYB\n",
    "\n",
    "#GarageYrBlt\n",
    "imputed_data_GYB = imputer_mode.fit_transform(train['GarageYrBlt'].values.reshape(2919,1))\n",
    "train['GarageYrBlt'] = imputed_data_GYB\n",
    "\n",
    "#GarageFinish\n",
    "train['GarageFinish'] = train['GarageFinish'].fillna(1)\n",
    "train['GarageFinish'] = train['GarageFinish'].replace({'Unf':2, 'RFn':3, 'Fin':4})\n",
    "\n",
    "#GarageQual\n",
    "train['GarageQual'] = train['GarageQual'].fillna(1)\n",
    "train['GarageQual'] = train['GarageQual'].replace({'Po':2, 'Fa':3, 'TA':4, 'Gd':5, 'Ex':6})\n",
    "\n",
    "#GarageCond\n",
    "train['GarageCond'] = train['GarageCond'].fillna(1)\n",
    "train['GarageCond'] = train['GarageCond'].replace({'Po':2, 'Fa':3, 'TA':4, 'Gd':5, 'Ex':6})\n",
    "\n",
    "#PavedDrive\n",
    "train['PavedDrive'] = train['PavedDrive'].replace({'N':1, 'P':2, 'Y':3})\n",
    "\n",
    "#PoolQC\n",
    "train['PoolQC'] = train['PoolQC'].fillna(1)\n",
    "train['PoolQC'] = train['PoolQC'].replace({'Fa':2, 'TA':3, 'Gd':4, 'Ex':5})\n",
    "\n",
    "#Fence\n",
    "train['Fence'] = train['Fence'].fillna('None')\n",
    "\n",
    "#BsmtFinSF1         1\n",
    "imputed_data = imputer.fit_transform(train['BsmtFinSF1'].values.reshape(2919, 1))\n",
    "train['BsmtFinSF1'] = imputed_data\n",
    "# BsmtFinSF2         1\n",
    "train['BsmtFinSF2'] = train['BsmtFinSF2'].fillna(0)\n",
    "# BsmtFullBath       2\n",
    "imputed_data = imputer_mode.fit_transform(train['BsmtFullBath'].values.reshape(2919,1))\n",
    "train['BsmtFullBath'] = imputed_data\n",
    "# BsmtHalfBath       2\n",
    "imputed_data = imputer_mode.fit_transform(train['BsmtHalfBath'].values.reshape(2919,1))\n",
    "train['BsmtHalfBath'] = imputed_data\n",
    "# BsmtUnfSF          1\n",
    "imputed_data = imputer.fit_transform(train['BsmtUnfSF'].values.reshape(2919, 1))\n",
    "train['BsmtUnfSF'] = imputed_data\n",
    "# GarageArea         1\n",
    "imputed_data = imputer.fit_transform(train['GarageArea'].values.reshape(2919, 1))\n",
    "train['GarageArea'] = imputed_data\n",
    "# GarageCars         1\n",
    "imputed_data = imputer_mode.fit_transform(train['GarageCars'].values.reshape(2919,1))\n",
    "train['GarageCars'] = imputed_data\n",
    "# KitchenQual        1\n",
    "imputed_data = imputer_mode.fit_transform(train['KitchenQual'].values.reshape(2919,1))\n",
    "train['KitchenQual'] = imputed_data\n",
    "# TotalBsmtSF        1\n",
    "imputed_data = imputer.fit_transform(train['TotalBsmtSF'].values.reshape(2919, 1))\n",
    "train['TotalBsmtSF'] = imputed_data\n",
    "# Utilities          2\n"
   ]
  },
  {
   "cell_type": "markdown",
   "metadata": {
    "_uuid": "5bf6d08d771acf3dbeac535d7d284eaad824d86d"
   },
   "source": [
    "Now we'll use one hot encoding for the features where the order of the categories don't matter. One hot encoding gives equal weightage to all the categories. It increases the number of features though, so you have to take steps to ensure that the model will not overfit."
   ]
  },
  {
   "cell_type": "code",
   "execution_count": 5,
   "metadata": {
    "_uuid": "f1dd4de49ed3363293f17c4c36b5aa00c83279f4"
   },
   "outputs": [],
   "source": [
    "lis_one_hot = ['MSZoning', 'LotConfig', 'Neighborhood', 'Condition1', 'Condition2',\n",
    "                'BldgType', 'HouseStyle', 'RoofMatl','RoofStyle', 'Exterior1st', 'Exterior2nd',\n",
    "                'MasVnrType', 'Foundation', 'Heating', 'Functional', 'GarageType', 'Fence',\n",
    "                'MiscFeature', 'SaleType', 'SaleCondition']\n",
    "\n",
    "one_hot = pd.get_dummies(train, columns=lis_one_hot)"
   ]
  },
  {
   "cell_type": "code",
   "execution_count": 6,
   "metadata": {
    "_uuid": "720f86a32d4eeb2be5da6f072284e467c05105d7"
   },
   "outputs": [],
   "source": [
    "Ids = one_hot['Id']\n",
    "temp_train = one_hot.iloc[:1460]\n",
    "temp_test = one_hot.iloc[1459:]\n",
    "# id_train = one_hot['Id'].iloc[:1461]\n",
    "id_test = one_hot['Id'].iloc[1460:]\n",
    "# prnt(id_test)\n",
    "# print(temp_train)"
   ]
  },
  {
   "cell_type": "markdown",
   "metadata": {
    "_uuid": "c10f07d67842e7509615493cde452588cedb219a"
   },
   "source": [
    "Dropping the target column from the training data and dividing the training data further into evaluation and training sets! "
   ]
  },
  {
   "cell_type": "code",
   "execution_count": 7,
   "metadata": {
    "_uuid": "8a029f266ddbaedff71d64f4bc2581c2cb99710c"
   },
   "outputs": [
    {
     "name": "stdout",
     "output_type": "stream",
     "text": [
      "(1095, 222) (365, 222) (1095,) (365,)\n"
     ]
    }
   ],
   "source": [
    "Y = temp_train['SalePrice']\n",
    "temp_train = temp_train.drop(['Id', 'SalePrice'], axis=1)\n",
    "train_x, val_x, train_y, val_y = train_test_split(temp_train, Y, random_state = 42)\n",
    "print(train_x.shape, val_x.shape, train_y.shape, val_y.shape)"
   ]
  },
  {
   "cell_type": "markdown",
   "metadata": {
    "_uuid": "701574da55fb5094b1efa0feef634a4bcb460b22"
   },
   "source": [
    "I'll b using a simple Random Forest regressor. Let's draw up some graphs to tune some of the hyper parameters.   Go ahead hit that blue play button for the cell below."
   ]
  },
  {
   "cell_type": "code",
   "execution_count": 8,
   "metadata": {
    "_uuid": "63b707f8969fe042330009c84088cfb971f60082"
   },
   "outputs": [
    {
     "name": "stdout",
     "output_type": "stream",
     "text": [
      "starting training for:  100\n",
      "---predicting---\n",
      "---mse---\n",
      "starting training for:  200\n",
      "---predicting---\n",
      "---mse---\n",
      "starting training for:  300\n",
      "---predicting---\n",
      "---mse---\n",
      "starting training for:  400\n",
      "---predicting---\n",
      "---mse---\n",
      "starting training for:  500\n",
      "---predicting---\n",
      "---mse---\n",
      "starting training for:  600\n",
      "---predicting---\n",
      "---mse---\n",
      "starting training for:  700\n",
      "---predicting---\n",
      "---mse---\n",
      "starting training for:  800\n",
      "---predicting---\n",
      "---mse---\n",
      "starting training for:  900\n",
      "---predicting---\n",
      "---mse---\n",
      "starting training for:  1000\n",
      "---predicting---\n",
      "---mse---\n"
     ]
    },
    {
     "data": {
      "image/png": "[encoded data removed]",
      "text/plain": [
       "<Figure size 432x288 with 1 Axes>"
      ]
     },
     "metadata": {},
     "output_type": "display_data"
    }
   ],
   "source": [
    "number_trees = []\n",
    "mse_train = []\n",
    "mse_val = []\n",
    "for i in range(100,1100,100):\n",
    "    print(\"starting training for: \", i)\n",
    "    number_trees.append(i)\n",
    "    rr = RandomForestRegressor(n_estimators=i, max_depth=25,max_features=60)\n",
    "    rr.fit(train_x, train_y)\n",
    "    print(\"---predicting---\")\n",
    "    predict_train = rr.predict(train_x)\n",
    "    predict_val = rr.predict(val_x)\n",
    "    print(\"---mse---\")\n",
    "    mse_train.append(mean_squared_error(train_y, predict_train))\n",
    "    mse_val.append(mean_squared_error(val_y, predict_val))\n",
    "    \n",
    "fig = plt.figure()\n",
    "ax = plt.axes()\n",
    "plt.plot(number_trees, mse_train,color='r')\n",
    "plt.plot(number_trees, mse_val, color='g')\n",
    "plt.show()"
   ]
  },
  {
   "attachments": {
    "download%281%29.png": {
     "image/png": "[encoded data removed]"
    }
   },
   "cell_type": "markdown",
   "metadata": {
    "_uuid": "0033ed00e28f6fe20d5165f97fe4e861e9dd77de"
   },
   "source": [
    "![download%281%29.png](attachment:download%281%29.png)\n",
    "The graph looks something like the image above.The 'n_estimator ' parameter has no effect on the overall MSE of the training or the evaluation data. So I'll be setting 'n_estimators' to around 150. Now lets take a look at  'max_features' parametre."
   ]
  },
  {
   "cell_type": "code",
   "execution_count": 9,
   "metadata": {
    "_uuid": "dcbcab234b75591de57e1de531f460930b077140"
   },
   "outputs": [
    {
     "name": "stdout",
     "output_type": "stream",
     "text": [
      "starting training for:  2\n",
      "---predicting---\n",
      "---mse---\n",
      "starting training for:  7\n",
      "---predicting---\n",
      "---mse---\n",
      "starting training for:  12\n",
      "---predicting---\n",
      "---mse---\n",
      "starting training for:  17\n",
      "---predicting---\n",
      "---mse---\n",
      "starting training for:  22\n",
      "---predicting---\n",
      "---mse---\n",
      "starting training for:  27\n",
      "---predicting---\n",
      "---mse---\n",
      "starting training for:  32\n",
      "---predicting---\n",
      "---mse---\n",
      "starting training for:  37\n",
      "---predicting---\n",
      "---mse---\n",
      "starting training for:  42\n",
      "---predicting---\n",
      "---mse---\n",
      "starting training for:  47\n",
      "---predicting---\n",
      "---mse---\n",
      "starting training for:  52\n",
      "---predicting---\n",
      "---mse---\n",
      "starting training for:  57\n",
      "---predicting---\n",
      "---mse---\n",
      "starting training for:  62\n",
      "---predicting---\n",
      "---mse---\n",
      "starting training for:  67\n",
      "---predicting---\n",
      "---mse---\n",
      "starting training for:  72\n",
      "---predicting---\n",
      "---mse---\n",
      "starting training for:  77\n",
      "---predicting---\n",
      "---mse---\n",
      "starting training for:  82\n",
      "---predicting---\n",
      "---mse---\n",
      "starting training for:  87\n",
      "---predicting---\n",
      "---mse---\n",
      "starting training for:  92\n",
      "---predicting---\n",
      "---mse---\n",
      "starting training for:  97\n",
      "---predicting---\n",
      "---mse---\n"
     ]
    },
    {
     "data": {
      "image/png": "[encoded data removed]",
      "text/plain": [
       "<Figure size 432x288 with 1 Axes>"
      ]
     },
     "metadata": {},
     "output_type": "display_data"
    }
   ],
   "source": [
    "number_trees = []\n",
    "mse_train = []\n",
    "mse_val = []\n",
    "\n",
    "for i in range(2,100,5):\n",
    "    print(\"starting training for: \", i)\n",
    "    number_trees.append(i)\n",
    "    rr = RandomForestRegressor(n_estimators=200, max_depth=25,max_features=i)\n",
    "    rr.fit(train_x, train_y)\n",
    "    print(\"---predicting---\")\n",
    "    predict_train = rr.predict(train_x)\n",
    "    predict_val = rr.predict(val_x)\n",
    "    print(\"---mse---\")\n",
    "    mse_train.append(mean_squared_error(train_y, predict_train))\n",
    "    mse_val.append(mean_squared_error(val_y, predict_val))\n",
    "    \n",
    "fig = plt.figure()\n",
    "ax = plt.axes()\n",
    "plt.plot(number_trees, mse_train,color='r')\n",
    "plt.plot(number_trees, mse_val, color='g')\n",
    "plt.show()"
   ]
  },
  {
   "attachments": {
    "download%282%29.png": {
     "image/png": "[encoded data removed]"
    }
   },
   "cell_type": "markdown",
   "metadata": {
    "_uuid": "6ab5e27bddec52276ad3bbf67b043b8b8fb90d9f"
   },
   "source": [
    "![download%282%29.png](attachment:download%282%29.png)\n",
    "Beautiful, Its just like Mr.Andre Ng had said. The mse_val and mse_train will converge more and more to a specific value as the complexity of the model increases. Excellent , if you observe the graph, you'll see that the error value is almost constant after 60-65ish. So I'll set max_features to 65. Now let's take a look at the 'max_depth' parametre."
   ]
  },
  {
   "cell_type": "code",
   "execution_count": 10,
   "metadata": {
    "_uuid": "bdf36c5faf0b3ad77a04a2046c8cb5eb47129bea"
   },
   "outputs": [
    {
     "name": "stdout",
     "output_type": "stream",
     "text": [
      "starting training for:  2\n",
      "---predicting---\n",
      "---mse---\n",
      "starting training for:  12\n",
      "---predicting---\n",
      "---mse---\n",
      "starting training for:  22\n",
      "---predicting---\n",
      "---mse---\n",
      "starting training for:  32\n",
      "---predicting---\n",
      "---mse---\n",
      "starting training for:  42\n",
      "---predicting---\n",
      "---mse---\n",
      "starting training for:  52\n",
      "---predicting---\n",
      "---mse---\n",
      "starting training for:  62\n",
      "---predicting---\n",
      "---mse---\n",
      "starting training for:  72\n",
      "---predicting---\n",
      "---mse---\n",
      "starting training for:  82\n",
      "---predicting---\n",
      "---mse---\n",
      "starting training for:  92\n",
      "---predicting---\n",
      "---mse---\n"
     ]
    },
    {
     "data": {
      "image/png": "[encoded data removed]",
      "text/plain": [
       "<Figure size 432x288 with 1 Axes>"
      ]
     },
     "metadata": {},
     "output_type": "display_data"
    }
   ],
   "source": [
    "number_trees = []\n",
    "mse_train = []\n",
    "mse_val = []\n",
    "\n",
    "for i in range(2,100,10):\n",
    "    print(\"starting training for: \", i)\n",
    "    number_trees.append(i)\n",
    "    rr = RandomForestRegressor(n_estimators=200, max_depth=i,max_features=60)\n",
    "    rr.fit(train_x, train_y)\n",
    "    print(\"---predicting---\")\n",
    "    predict_train = rr.predict(train_x)\n",
    "    predict_val = rr.predict(val_x)\n",
    "    print(\"---mse---\")\n",
    "    mse_train.append(mean_squared_error(train_y, predict_train))\n",
    "    mse_val.append(mean_squared_error(val_y, predict_val))\n",
    "    \n",
    "fig = plt.figure()\n",
    "ax = plt.axes()\n",
    "plt.plot(number_trees, mse_train,color='r')\n",
    "plt.plot(number_trees, mse_val, color='g')\n",
    "plt.show()"
   ]
  },
  {
   "attachments": {
    "download%283%29.png": {
     "image/png": "[encoded data removed]"
    }
   },
   "cell_type": "markdown",
   "metadata": {
    "_uuid": "60cc8bbb271cd325d0ee04ee99c7e08f97ee8e8f"
   },
   "source": [
    "![download%283%29.png](attachment:download%283%29.png)\n",
    "The error is almost constant after 15ish value. nice! So max depth can be set to 15."
   ]
  },
  {
   "cell_type": "code",
   "execution_count": 11,
   "metadata": {
    "_uuid": "38b15cfa5562e97151ef01d8d461d0c2aa56e0a4"
   },
   "outputs": [
    {
     "data": {
      "text/plain": [
       "RandomForestRegressor(bootstrap=True, criterion='mse', max_depth=20,\n",
       "           max_features=60, max_leaf_nodes=None, min_impurity_decrease=0.0,\n",
       "           min_impurity_split=None, min_samples_leaf=1,\n",
       "           min_samples_split=2, min_weight_fraction_leaf=0.0,\n",
       "           n_estimators=200, n_jobs=None, oob_score=False,\n",
       "           random_state=None, verbose=0, warm_start=False)"
      ]
     },
     "execution_count": 11,
     "metadata": {},
     "output_type": "execute_result"
    }
   ],
   "source": [
    "model = RandomForestRegressor(n_estimators=200, max_depth = 20, max_features=60)\n",
    "model.fit(temp_train, Y)"
   ]
  },
  {
   "cell_type": "code",
   "execution_count": 12,
   "metadata": {
    "_uuid": "81ab7b4e8d75eb13fb456ca2b25aca112821260d"
   },
   "outputs": [],
   "source": [
    "temp_test = temp_test.drop(['SalePrice', 'Id'], axis=1)\n",
    "submission = model.predict(temp_test)"
   ]
  },
  {
   "cell_type": "code",
   "execution_count": 13,
   "metadata": {
    "_uuid": "c509efb70c7df249d2b7481164dc9121f794de58"
   },
   "outputs": [],
   "source": []
  }
 ],
 "metadata": {
  "kernelspec": {
   "display_name": "Python 3",
   "language": "python",
   "name": "python3"
  },
  "language_info": {
   "codemirror_mode": {
    "name": "ipython",
    "version": 3
   },
   "file_extension": ".py",
   "mimetype": "text/x-python",
   "name": "python",
   "nbconvert_exporter": "python",
   "pygments_lexer": "ipython3",
   "version": "3.6.7"
  }
 },
 "nbformat": 4,
 "nbformat_minor": 1
}
